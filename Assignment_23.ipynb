{
  "nbformat": 4,
  "nbformat_minor": 0,
  "metadata": {
    "colab": {
      "name": "Assignment_23.ipynb",
      "provenance": [],
      "authorship_tag": "ABX9TyPzLfLwl3HkH1NidCYFO5jg"
    },
    "kernelspec": {
      "name": "python3",
      "display_name": "Python 3"
    },
    "language_info": {
      "name": "python"
    }
  },
  "cells": [
    {
      "cell_type": "markdown",
      "source": [
        "1. What is the result of the code, and why?\n",
        "def func(a, b=6, c=8):\n",
        "  print(a, b, c)\n",
        "func(1, 2)\n"
      ],
      "metadata": {
        "id": "bds6gAEQ_GtK"
      }
    },
    {
      "cell_type": "code",
      "execution_count": 3,
      "metadata": {
        "colab": {
          "base_uri": "https://localhost:8080/"
        },
        "id": "OtARxeVl_BWq",
        "outputId": "e39800d3-d4ff-44f0-bccf-63698e56c2f3"
      },
      "outputs": [
        {
          "output_type": "stream",
          "name": "stdout",
          "text": [
            "1 2 8\n"
          ]
        }
      ],
      "source": [
        "def func(a, b=6, c=8):\n",
        "  print(a, b, c)\n",
        "func(1, 2)\n",
        "\n",
        "# Ans. This funtion is taking a positional argument and 2 keyward argument. When function call m=is made, parameter passed \n",
        "# are a=1,b=2. When the function is executed , parameter c=8 will be taken by default as its a keyword argument."
      ]
    },
    {
      "cell_type": "markdown",
      "source": [
        "2. What is the result of this code, and why?\n",
        "def func(a, b, c=5):\n",
        "  print(a, b, c)\n",
        "func(1, c=3, b=2)\n",
        "\n"
      ],
      "metadata": {
        "id": "yH_Ym_eW_HVf"
      }
    },
    {
      "cell_type": "code",
      "source": [
        "def func(a, b, c=5):\n",
        "  print(a, b, c)\n",
        "func(1, c=3, b=2)\n",
        "\n",
        "# Ans. When we make function call, order will be positional argument and then keywords arguments. we can pass the keyword arguments in any order we want."
      ],
      "metadata": {
        "colab": {
          "base_uri": "https://localhost:8080/"
        },
        "id": "gR9yEH89BirC",
        "outputId": "b0fc5f87-0b32-4ef3-d602-526f9cb8fbdf"
      },
      "execution_count": 4,
      "outputs": [
        {
          "output_type": "stream",
          "name": "stdout",
          "text": [
            "1 2 3\n"
          ]
        }
      ]
    },
    {
      "cell_type": "markdown",
      "source": [
        "3. How about this code: what is its result, and why?\n",
        "def func(a, *pargs):\n",
        "  print(a, pargs)\n",
        "func(1, 2, 3)\n"
      ],
      "metadata": {
        "id": "JEpvr3C2_aOF"
      }
    },
    {
      "cell_type": "code",
      "source": [
        "def func(a, *pargs):\n",
        "  print(a, pargs)\n",
        "func(1, 2, 3)\n",
        "\n",
        "# Ans.The return type of *args parameter is tuple, where as **kargs will be dictionary"
      ],
      "metadata": {
        "colab": {
          "base_uri": "https://localhost:8080/"
        },
        "id": "z3HXDI_jBphg",
        "outputId": "69b875e6-3b2e-4a9c-f49f-dd4a105a9396"
      },
      "execution_count": 5,
      "outputs": [
        {
          "output_type": "stream",
          "name": "stdout",
          "text": [
            "1 (2, 3)\n"
          ]
        }
      ]
    },
    {
      "cell_type": "markdown",
      "source": [
        "4. What does this code print, and why?\n",
        "def func(a, **kargs):\n",
        "  print(a, kargs)\n",
        "func(a=1, c=3, b=2)\n",
        "\n"
      ],
      "metadata": {
        "id": "i6bB7JMX_ae1"
      }
    },
    {
      "cell_type": "code",
      "source": [
        "def func(a, **kargs):\n",
        "  print(a, kargs)\n",
        "func(a=1, c=3, b=2)\n",
        "\n",
        "#Ans. The return type of  **kargs is  dictionary"
      ],
      "metadata": {
        "id": "R_lJIlACBuEP"
      },
      "execution_count": null,
      "outputs": []
    },
    {
      "cell_type": "markdown",
      "source": [
        "5. What gets printed by this, and explain?\n",
        "def func(a, b, c=8, d=5): \n",
        "  print(a, b, c, d)\n",
        "func(1, *(5, 6))\n"
      ],
      "metadata": {
        "id": "GBJs3HgR_akz"
      }
    },
    {
      "cell_type": "code",
      "source": [
        "def func(a, b, c=8, d=5): \n",
        "    print(a, b, c, d)\n",
        "func(1, *(5, 6))\n",
        "\n",
        "# '*' is the unpacking operator and are operators that unpack the values from iterable objects in Python. The single \n",
        "#    asterisk operator * can be used on any iterable that Python provides, while the double asterisk operator ** can only \n",
        "#   be used on dictionaries. In the example the value *(5,6) will be unpacked and will be assigned to b and c and passed \n",
        "#   as arguments, d =5 will taken by defaults are keyword arguments."
      ],
      "metadata": {
        "colab": {
          "base_uri": "https://localhost:8080/"
        },
        "id": "0u0Flk-3CJjE",
        "outputId": "4ea5f09b-38b9-47b0-ebba-bcbeac096ebe"
      },
      "execution_count": 6,
      "outputs": [
        {
          "output_type": "stream",
          "name": "stdout",
          "text": [
            "1 5 6 5\n"
          ]
        }
      ]
    },
    {
      "cell_type": "markdown",
      "source": [
        "6. what is the result of this, and explain?\n",
        "def func(a, b, c):\n",
        "  a = 2; \n",
        "  b[0] = 'x'; \n",
        "  c['a'] = 'y'\n",
        "l=1; m=[1]; n={'a':0}\n",
        "func(l, m, n)\n",
        "l, m, n"
      ],
      "metadata": {
        "id": "6wKHJQog_arU"
      }
    },
    {
      "cell_type": "code",
      "source": [
        "def func(a, b, c):\n",
        "  a = 2; b[0] = 'x'; c['a'] = 'y'\n",
        "  l=1; m=[1]; n={'a':0}\n",
        "func(l, m, n)\n",
        "l, m, n\n",
        "# Ans. Here in the code, the list and dict are passed as argument, and those are mutable. Here the list l and parameter b point \n",
        "#to the same list in the memory location where as dict n and c point to the same memory location. Any updates to this \n",
        "#list will update in the memory location\n",
        "\n",
        "#l = 1 , integer values, immutable, m is list, mutable, n is dict, mutable."
      ],
      "metadata": {
        "colab": {
          "base_uri": "https://localhost:8080/"
        },
        "id": "evCcMpUKAycs",
        "outputId": "eee0e4ee-5a30-42d3-a23b-04c50b5a578a"
      },
      "execution_count": 7,
      "outputs": [
        {
          "output_type": "execute_result",
          "data": {
            "text/plain": [
              "(1, ['x'], {'a': 'y'})"
            ]
          },
          "metadata": {},
          "execution_count": 7
        }
      ]
    }
  ]
}