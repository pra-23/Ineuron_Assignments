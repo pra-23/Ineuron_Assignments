{
  "nbformat": 4,
  "nbformat_minor": 0,
  "metadata": {
    "colab": {
      "name": "Assignment_19.ipynb",
      "provenance": [],
      "authorship_tag": "ABX9TyNq8qdQLfsRAiej282q2Jkp"
    },
    "kernelspec": {
      "name": "python3",
      "display_name": "Python 3"
    },
    "language_info": {
      "name": "python"
    }
  },
  "cells": [
    {
      "cell_type": "markdown",
      "source": [
        "1. Make a class called Thing with no contents and print it. Then, create an object called example from this class and also print it. Are the printed values the same or different?\n"
      ],
      "metadata": {
        "id": "YeAUWGkM4Bgd"
      }
    },
    {
      "cell_type": "code",
      "execution_count": null,
      "metadata": {
        "colab": {
          "base_uri": "https://localhost:8080/"
        },
        "id": "f109ZVdc3x_M",
        "outputId": "773e62e5-c9bc-42a2-81f4-a231e95285f4"
      },
      "outputs": [
        {
          "output_type": "stream",
          "name": "stdout",
          "text": [
            "<class '__main__.Thing'>\n",
            "<__main__.Thing object at 0x7f4003780dd0>\n"
          ]
        }
      ],
      "source": [
        "class Thing:\n",
        "  pass\n",
        "print(Thing)\n",
        "example = Thing()\n",
        "print(example)"
      ]
    },
    {
      "cell_type": "markdown",
      "source": [
        "2. Create a new class called Thing2 and add the value 'abc' to the letters class attribute. Letters should be printed.\n",
        "\n"
      ],
      "metadata": {
        "id": "3j34Agww4A5T"
      }
    },
    {
      "cell_type": "code",
      "source": [
        "class Thing2:\n",
        "  letters = 'abc'\n",
        "Thing2.letters"
      ],
      "metadata": {
        "colab": {
          "base_uri": "https://localhost:8080/",
          "height": 35
        },
        "id": "hTMN6ppG4YOY",
        "outputId": "6553bd39-6c93-4ad2-8786-9b0810eb46c4"
      },
      "execution_count": null,
      "outputs": [
        {
          "output_type": "execute_result",
          "data": {
            "text/plain": [
              "'abc'"
            ],
            "application/vnd.google.colaboratory.intrinsic+json": {
              "type": "string"
            }
          },
          "metadata": {},
          "execution_count": 3
        }
      ]
    },
    {
      "cell_type": "markdown",
      "source": [
        "3. Make yet another class called, of course, Thing3. This time, assign the value 'xyz' to an instance (object) attribute called letters. Print letters. Do you need to make an object from the class to do this?\n"
      ],
      "metadata": {
        "id": "GImVrfjN4H-D"
      }
    },
    {
      "cell_type": "code",
      "source": [
        "class Thing3:\n",
        "  def __init__(self,letter):\n",
        "    self.letter = letter\n",
        "  def letters(self):\n",
        "    print(self.letter)\n",
        "Thing3('xyz').letters()\n",
        "# Yes"
      ],
      "metadata": {
        "colab": {
          "base_uri": "https://localhost:8080/"
        },
        "id": "8fE8ASsO4ZRv",
        "outputId": "556baff7-d0e6-4b44-8cee-8b619983886a"
      },
      "execution_count": null,
      "outputs": [
        {
          "output_type": "stream",
          "name": "stdout",
          "text": [
            "xyz\n"
          ]
        }
      ]
    },
    {
      "cell_type": "markdown",
      "source": [
        "4. Create an Element class with the instance attributes name, symbol, and number. Create a class object with the values 'Hydrogen,' 'H,' and 1.\n"
      ],
      "metadata": {
        "id": "3bqqzb4J4KHu"
      }
    },
    {
      "cell_type": "code",
      "source": [
        "class Element:\n",
        "  def __init__(self,name,symbol,number):\n",
        "    self.name = name\n",
        "    self.symbol = symbol\n",
        "    self.number = number\n",
        "obj = Element('Hydrogen', 'H',1)\n",
        "obj.name\n",
        "#obj.symbol\n",
        "#obj.number"
      ],
      "metadata": {
        "colab": {
          "base_uri": "https://localhost:8080/",
          "height": 35
        },
        "id": "uEzRYxcb4Z71",
        "outputId": "4be959cb-70fd-4315-90d3-0c8e1f4fc052"
      },
      "execution_count": null,
      "outputs": [
        {
          "output_type": "execute_result",
          "data": {
            "text/plain": [
              "'Hydrogen'"
            ],
            "application/vnd.google.colaboratory.intrinsic+json": {
              "type": "string"
            }
          },
          "metadata": {},
          "execution_count": 9
        }
      ]
    },
    {
      "cell_type": "markdown",
      "source": [
        "5. Make a dictionary with these keys and values: 'name': 'Hydrogen', 'symbol': 'H', 'number': 1. Then, create an object called hydrogen from class Element using this dictionary.\n"
      ],
      "metadata": {
        "id": "tXQzVvt34MXZ"
      }
    },
    {
      "cell_type": "code",
      "source": [
        "dict = {'name': 'Hydrogen', 'symbol': 'H', 'number': 1}\n",
        "hydrogen = Element(**dict)\n",
        "hydrogen.symbol"
      ],
      "metadata": {
        "colab": {
          "base_uri": "https://localhost:8080/",
          "height": 35
        },
        "id": "rMvSAkp64bBj",
        "outputId": "54fec669-74ce-4d49-cf4d-d1beca6a632a"
      },
      "execution_count": null,
      "outputs": [
        {
          "output_type": "execute_result",
          "data": {
            "text/plain": [
              "'H'"
            ],
            "application/vnd.google.colaboratory.intrinsic+json": {
              "type": "string"
            }
          },
          "metadata": {},
          "execution_count": 10
        }
      ]
    },
    {
      "cell_type": "markdown",
      "source": [
        "6. For the Element class, define a method called dump() that prints the values of the object’s attributes (name, symbol, and number). Create the hydrogen object from this new definition and use dump() to print its attributes.\n"
      ],
      "metadata": {
        "id": "tntGGIh74OMq"
      }
    },
    {
      "cell_type": "code",
      "source": [
        "class Element:\n",
        "  def __init__(self,name,symbol,number):\n",
        "     self.name = name\n",
        "     self.symbol = symbol\n",
        "     self.number = number\n",
        "  def dump(self):\n",
        "     print(self.name,self.symbol,self.number)\n",
        "hydrogen = Element('Hydorgen','H',1)\n",
        "hydrogen.dump()"
      ],
      "metadata": {
        "id": "dFM7HFT44bj9",
        "colab": {
          "base_uri": "https://localhost:8080/"
        },
        "outputId": "c98f03c9-d88e-4558-c3ce-1bdee8ec12eb"
      },
      "execution_count": 5,
      "outputs": [
        {
          "output_type": "stream",
          "name": "stdout",
          "text": [
            "Hydorgen H 1\n"
          ]
        }
      ]
    },
    {
      "cell_type": "markdown",
      "source": [
        "7. Call print(hydrogen). In the definition of Element, change the name of method dump to __str__, create a new hydrogen object, and call print(hydrogen) again.\n"
      ],
      "metadata": {
        "id": "hNAZpldQ4QTG"
      }
    },
    {
      "cell_type": "code",
      "source": [
        "class Element:\n",
        "  def __init__(self,name,symbol,number):\n",
        "     self.name = name\n",
        "     self.symbol = symbol\n",
        "     self.number = number\n",
        "  def __str__(self):\n",
        "     return ('name=%s, symbol=%s, number=%s'% (self.name, self.symbol, self.number))\n",
        "hydrogen = Element('Hydorgen','H',1)\n",
        "print(hydrogen)"
      ],
      "metadata": {
        "id": "ly0YET7N4cBj",
        "colab": {
          "base_uri": "https://localhost:8080/"
        },
        "outputId": "9b8d8fdf-79b6-4e4e-dbbd-dbede5a0ccfb"
      },
      "execution_count": 10,
      "outputs": [
        {
          "output_type": "stream",
          "name": "stdout",
          "text": [
            "name=Hydorgen, symbol=H, number=1\n"
          ]
        }
      ]
    },
    {
      "cell_type": "markdown",
      "source": [
        "8. Modify Element to make the attributes name, symbol, and number private. Define a getter property for each to return its value.\n"
      ],
      "metadata": {
        "id": "gxTxKvuo4SEb"
      }
    },
    {
      "cell_type": "code",
      "source": [
        "class Element(): \n",
        "  def __init__(self ,name,symbol,number):\n",
        "     self.__name = name\n",
        "     self.__symbol = symbol\n",
        "     self.__number = number\n",
        "  @property\n",
        "  def name(self):\n",
        "     return (self.__name)\n",
        "  @property\n",
        "  def symbol(self):\n",
        "     return (self.__symbol)\n",
        "  @property\n",
        "  def number(self):\n",
        "     return (self.__number)\n",
        "hydrogen = Element('Hydrogen','H',1)\n",
        "hydrogen.name"
      ],
      "metadata": {
        "id": "Q6xw8DAn4cwt",
        "colab": {
          "base_uri": "https://localhost:8080/",
          "height": 35
        },
        "outputId": "86f28633-b279-4601-9ccd-b3bd6ce6d52f"
      },
      "execution_count": 11,
      "outputs": [
        {
          "output_type": "execute_result",
          "data": {
            "text/plain": [
              "'Hydrogen'"
            ],
            "application/vnd.google.colaboratory.intrinsic+json": {
              "type": "string"
            }
          },
          "metadata": {},
          "execution_count": 11
        }
      ]
    },
    {
      "cell_type": "markdown",
      "source": [
        "9. Define three classes: Bear, Rabbit, and Octothorpe. For each, define only one method: eats(). This should return 'berries' (Bear), 'clover' (Rabbit), or 'campers' (Octothorpe). Create one object from each and print what it eats.\n"
      ],
      "metadata": {
        "id": "8YwYZXXQ4UL0"
      }
    },
    {
      "cell_type": "code",
      "source": [
        "class Bear:\n",
        "  def eats(self):\n",
        "    print('berries')\n",
        "class Rabbit:\n",
        "  def eats(self):\n",
        "    print('clover')\n",
        "class Octothorpe:\n",
        "  def eats(self):\n",
        "    print('campers')\n",
        "B = Bear()\n",
        "R = Rabbit()\n",
        "O = Octothorpe()\n",
        "B.eats()\n",
        "R.eats()\n",
        "O.eats()  "
      ],
      "metadata": {
        "id": "7hZxReSx4dL9",
        "colab": {
          "base_uri": "https://localhost:8080/"
        },
        "outputId": "be13ae51-4c11-4658-942b-64a5c45fe362"
      },
      "execution_count": 14,
      "outputs": [
        {
          "output_type": "stream",
          "name": "stdout",
          "text": [
            "berries\n",
            "clover\n",
            "campers\n"
          ]
        }
      ]
    },
    {
      "cell_type": "markdown",
      "source": [
        "10. Define these classes: Laser, Claw, and SmartPhone. Each has only one method: does(). This returns 'disintegrate' (Laser), 'crush' (Claw), or 'ring' (SmartPhone). Then, define the class Robot that has one instance (object) of each of these. Define a does() method for the Robot that prints what its component objects do."
      ],
      "metadata": {
        "id": "IU51BQ5e4V8_"
      }
    },
    {
      "cell_type": "code",
      "source": [
        "class Laser:\n",
        "  def does(self):\n",
        "    return 'disintegrate'\n",
        "class Claw:\n",
        "  def does(self):\n",
        "    return 'crush'\n",
        "class Smartphone:\n",
        "  def does(self):\n",
        "    return 'ring'\n",
        "class Robot:\n",
        "  def __init__(self):\n",
        "    self.laser = Laser()\n",
        "    self.claw = Claw()\n",
        "    self.smartphone = Smartphone()\n",
        "  def does(self):\n",
        "    return ('Laser %s, Claw %s, Smartphone %s'% (self.laser.does(),self.claw.does(),self.smartphone.does()))\n",
        "robo = Robot()\n",
        "robo.does()"
      ],
      "metadata": {
        "id": "b26CTRHP4XW8",
        "colab": {
          "base_uri": "https://localhost:8080/",
          "height": 35
        },
        "outputId": "72334682-e463-4d00-9e84-d85ce8e7ed9d"
      },
      "execution_count": 17,
      "outputs": [
        {
          "output_type": "execute_result",
          "data": {
            "text/plain": [
              "'Laser disintegrate, Claw crush, Smartphone ring'"
            ],
            "application/vnd.google.colaboratory.intrinsic+json": {
              "type": "string"
            }
          },
          "metadata": {},
          "execution_count": 17
        }
      ]
    }
  ]
}