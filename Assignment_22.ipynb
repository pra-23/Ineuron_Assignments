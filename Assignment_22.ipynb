{
  "nbformat": 4,
  "nbformat_minor": 0,
  "metadata": {
    "colab": {
      "name": "Assignment_22.ipynb",
      "provenance": [],
      "authorship_tag": "ABX9TyMvPVqYdbATq/dD0eM0S+nU"
    },
    "kernelspec": {
      "name": "python3",
      "display_name": "Python 3"
    },
    "language_info": {
      "name": "python"
    }
  },
  "cells": [
    {
      "cell_type": "markdown",
      "source": [
        "1. What is the result of the code, and explain?\n",
        "\n",
        "X = 'iNeuron'\n",
        "def func():\n",
        "  print(X)\n",
        "func()\n"
      ],
      "metadata": {
        "id": "MOxVwgiUmARB"
      }
    },
    {
      "cell_type": "code",
      "execution_count": 8,
      "metadata": {
        "colab": {
          "base_uri": "https://localhost:8080/"
        },
        "id": "JOyf4Wkrl7G6",
        "outputId": "d1edc58a-2742-4388-8d11-d2802f57af71"
      },
      "outputs": [
        {
          "output_type": "stream",
          "name": "stdout",
          "text": [
            "iNeuron\n"
          ]
        }
      ],
      "source": [
        "X = 'iNeuron' \n",
        "def func():\n",
        "  print(X) \n",
        "func()\n",
        "#Ans. The global variables are accessible in side the functions in python. \n",
        "#But we can not access function variable out side function. \n",
        "#Since x is global variable we are able to print it in side the function solution : 'iNeuron'"
      ]
    },
    {
      "cell_type": "markdown",
      "source": [
        "2. What is the result of the code, and explain?\n",
        "\n",
        "X = 'iNeuron'\n",
        "def func():\n",
        "  X = 'NI!'\n",
        "func()\n",
        "print(X)"
      ],
      "metadata": {
        "id": "3zg1tXd3mAux"
      }
    },
    {
      "cell_type": "code",
      "source": [
        "X = 'iNeuron' \n",
        "def func():\n",
        "  X = 'NI!' \n",
        "func() \n",
        "print(X)\n",
        "#Ans. The global variables are access in side the functions in python. But we can not access function variable out side function.\n",
        "# Since x is golbal variable we are able to print it out side of the function solution = 'iNeuron'"
      ],
      "metadata": {
        "colab": {
          "base_uri": "https://localhost:8080/"
        },
        "id": "hI0mJohYnh0Y",
        "outputId": "6b5595bd-4769-4e42-b8df-319bdabc7abc"
      },
      "execution_count": 2,
      "outputs": [
        {
          "output_type": "stream",
          "name": "stdout",
          "text": [
            "iNeuron\n"
          ]
        }
      ]
    },
    {
      "cell_type": "markdown",
      "source": [
        "3. What does this code print, and why?\n",
        "\n",
        "X = 'iNeuron'\n",
        "def func():\n",
        "  X = 'NI'\n",
        "print(X)\n",
        "func()\n",
        "print(X)"
      ],
      "metadata": {
        "id": "olpGh1y_mD0i"
      }
    },
    {
      "cell_type": "code",
      "source": [
        "X = 'iNeuron' \n",
        "def func(): \n",
        "  X = 'NI' \n",
        "  print(X) \n",
        "func() \n",
        "print(X)\n",
        "#Ans. The global variables are access in side the functions in python. But we can not access function variable out side function.\n",
        "# X is updated with 'NI' which is local to function and its immutable. its name space is with in the function solution = 'NI!', 'iNeuron'"
      ],
      "metadata": {
        "colab": {
          "base_uri": "https://localhost:8080/"
        },
        "id": "a0XQ1b-Ani4f",
        "outputId": "5db9fe31-ca88-4125-841c-d182cb148294"
      },
      "execution_count": 7,
      "outputs": [
        {
          "output_type": "stream",
          "name": "stdout",
          "text": [
            "NI\n",
            "iNeuron\n"
          ]
        }
      ]
    },
    {
      "cell_type": "markdown",
      "source": [
        "4. What output does this code produce? Why?\n",
        "\n",
        "\n",
        "X = 'iNeuron'\n",
        "def func():\n",
        "  global X\n",
        "  X = 'NI'\n",
        "func()\n",
        "print(X)\n"
      ],
      "metadata": {
        "id": "MyCwcpuUmEG5"
      }
    },
    {
      "cell_type": "code",
      "source": [
        "X = 'iNeuron' \n",
        "def func(): \n",
        "  global X \n",
        "  X = 'NI' \n",
        "func()\n",
        "print(X)\n",
        "#Ans. since the X in side function is made Global, it will be accesible out side of the function too. \n",
        "#now X will have new value."
      ],
      "metadata": {
        "colab": {
          "base_uri": "https://localhost:8080/"
        },
        "id": "Xm2fWDXink3q",
        "outputId": "b6006712-4f12-411d-82b0-c7107dcfedd4"
      },
      "execution_count": 4,
      "outputs": [
        {
          "output_type": "stream",
          "name": "stdout",
          "text": [
            "NI\n"
          ]
        }
      ]
    },
    {
      "cell_type": "markdown",
      "source": [
        "\n",
        "\n",
        "5. What about this code—what’s the output, and why?\n",
        "\n",
        "X = 'iNeuron'\n",
        "def func():\n",
        "  X = 'NI'\n",
        "def nested():\n",
        "  print(X)\n",
        "nested()\n",
        "func()\n",
        "X"
      ],
      "metadata": {
        "id": "kU5kcsGPmEUS"
      }
    },
    {
      "cell_type": "code",
      "source": [
        "X = 'iNeuron'\n",
        "def func():\n",
        "    X = 'NI'\n",
        "def nested():\n",
        "    print(X)\n",
        "\n",
        "nested()\n",
        "func()\n",
        "X\n",
        "#Ans. the nested() function will print 'iNeuron', Then func() does not display anything,\n",
        "# and x ='NI' is not accessible out \n",
        "#side the function.\n",
        "#Solution : 'iNeuron'"
      ],
      "metadata": {
        "colab": {
          "base_uri": "https://localhost:8080/",
          "height": 53
        },
        "id": "sIrCBN9onlwO",
        "outputId": "64949a27-0b2c-44b6-c04e-f5261766be0d"
      },
      "execution_count": 3,
      "outputs": [
        {
          "output_type": "stream",
          "name": "stdout",
          "text": [
            "iNeuron\n"
          ]
        },
        {
          "output_type": "execute_result",
          "data": {
            "text/plain": [
              "'iNeuron'"
            ],
            "application/vnd.google.colaboratory.intrinsic+json": {
              "type": "string"
            }
          },
          "metadata": {},
          "execution_count": 3
        }
      ]
    },
    {
      "cell_type": "markdown",
      "source": [
        "6. How about this code: what is its output in Python 3, and explain?\n",
        "\n",
        "def func():\n",
        "  X = 'NI'\n",
        "def nested():\n",
        "  nonlocal X\n",
        "  X = 'Spam'\n",
        "nested()\n",
        "print(X)\n",
        "func()"
      ],
      "metadata": {
        "id": "lFvYnDjFmEjT"
      }
    },
    {
      "cell_type": "code",
      "source": [
        "def func():\n",
        "    X = 'NI'\n",
        "    def nested():\n",
        "        nonlocal X\n",
        "        X = 'spam'\n",
        "    nested()\n",
        "    print(X)\n",
        "\n",
        "func()\n",
        "\n",
        "#Nonlocal variables are used in nested functions whose local scope is not defined. \n",
        "#This means that the variable can be neither in the local nor the global scope. it print the updated value from nested \n",
        "#function"
      ],
      "metadata": {
        "colab": {
          "base_uri": "https://localhost:8080/"
        },
        "id": "B-MQq-p7nmPw",
        "outputId": "b0dafaf8-7f76-4064-c5f9-11208530358e"
      },
      "execution_count": 6,
      "outputs": [
        {
          "output_type": "stream",
          "name": "stdout",
          "text": [
            "spam\n"
          ]
        }
      ]
    }
  ]
}