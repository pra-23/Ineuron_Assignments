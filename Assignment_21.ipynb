{
  "nbformat": 4,
  "nbformat_minor": 0,
  "metadata": {
    "colab": {
      "name": "Assignment_21.ipynb",
      "provenance": [],
      "authorship_tag": "ABX9TyPxT5tefi6x0WyCaIpN9wQv"
    },
    "kernelspec": {
      "name": "python3",
      "display_name": "Python 3"
    },
    "language_info": {
      "name": "python"
    }
  },
  "cells": [
    {
      "cell_type": "markdown",
      "source": [
        "1. Add the current date to the text file today.txt as a string.\n",
        "\n"
      ],
      "metadata": {
        "id": "vMt_dBp4ey2T"
      }
    },
    {
      "cell_type": "code",
      "source": [
        "import datetime\n",
        "from datetime import date\n",
        "now = date.today()\n",
        "cur_date = now.isoformat()\n",
        "print(cur_date)\n",
        "fopen = open('today.txt','w')\n",
        "fopen.write(cur_date)"
      ],
      "metadata": {
        "colab": {
          "base_uri": "https://localhost:8080/"
        },
        "id": "m_OQ_ifdezdm",
        "outputId": "91188341-0eea-4067-ea6f-57d6983045d5"
      },
      "execution_count": 2,
      "outputs": [
        {
          "output_type": "stream",
          "name": "stdout",
          "text": [
            "2022-05-10\n"
          ]
        },
        {
          "output_type": "execute_result",
          "data": {
            "text/plain": [
              "10"
            ]
          },
          "metadata": {},
          "execution_count": 2
        }
      ]
    },
    {
      "cell_type": "markdown",
      "source": [
        "2. Read the text file today.txt into the string today_string\n"
      ],
      "metadata": {
        "id": "kiSedsp9e0aD"
      }
    },
    {
      "cell_type": "code",
      "source": [
        "fopen = open('today.txt','r')\n",
        "today_string = fopen.readline()\n",
        "print(today_string)"
      ],
      "metadata": {
        "colab": {
          "base_uri": "https://localhost:8080/"
        },
        "id": "Pd_bhL3ae2ZB",
        "outputId": "1fe86283-4f91-4eec-df79-65042b2e9ae8"
      },
      "execution_count": 5,
      "outputs": [
        {
          "output_type": "stream",
          "name": "stdout",
          "text": [
            "2022-05-10\n"
          ]
        }
      ]
    },
    {
      "cell_type": "markdown",
      "source": [
        "3. Parse the date from today_string.\n",
        " (or when were you) 10,000 days old?"
      ],
      "metadata": {
        "id": "GPAo_7qhe1N7"
      }
    },
    {
      "cell_type": "code",
      "execution_count": 6,
      "metadata": {
        "colab": {
          "base_uri": "https://localhost:8080/"
        },
        "id": "AfoANMxxen9O",
        "outputId": "7169bd04-344e-439e-a3b7-00e6cb532277"
      },
      "outputs": [
        {
          "output_type": "execute_result",
          "data": {
            "text/plain": [
              "datetime.datetime(2022, 5, 10, 0, 0)"
            ]
          },
          "metadata": {},
          "execution_count": 6
        }
      ],
      "source": [
        "from datetime import datetime \n",
        "format = '%Y-%m-%d'\n",
        "datetime.strptime(today_string,format)"
      ]
    },
    {
      "cell_type": "markdown",
      "source": [
        "4. List the files in your current directory\n"
      ],
      "metadata": {
        "id": "Z2cLCpFie3D7"
      }
    },
    {
      "cell_type": "code",
      "source": [
        "import os\n",
        "os.listdir('.')"
      ],
      "metadata": {
        "colab": {
          "base_uri": "https://localhost:8080/"
        },
        "id": "e7wC6QcViaav",
        "outputId": "8b2b7399-8412-40cb-e81c-2ce878729772"
      },
      "execution_count": 7,
      "outputs": [
        {
          "output_type": "execute_result",
          "data": {
            "text/plain": [
              "['.config', 'today.txt', 'sample_data']"
            ]
          },
          "metadata": {},
          "execution_count": 7
        }
      ]
    },
    {
      "cell_type": "markdown",
      "source": [
        "5. Use multiprocessing to create three separate processes. Make each one wait a random number of seconds between one and five, print the current time, and then exit."
      ],
      "metadata": {
        "id": "5NAOoYYMe3nh"
      }
    },
    {
      "cell_type": "code",
      "source": [
        "import multiprocessing\n",
        "\n",
        "def printsec(seconds):\n",
        "    from datetime import datetime\n",
        "    from time import sleep\n",
        "    sleep(seconds)\n",
        "    print('wait', seconds, 'seconds, time is', datetime.utcnow())\n",
        "    \n",
        "if __name__ == '__main__':\n",
        "    import random    \n",
        "    for n in range(3):\n",
        "        seconds = random.random()\n",
        "        proc = multiprocessing.Process(target=printsec, args=(seconds,))\n",
        "        proc.start()"
      ],
      "metadata": {
        "colab": {
          "base_uri": "https://localhost:8080/"
        },
        "id": "gTVqWGnVisMd",
        "outputId": "d1634370-d04f-4048-b811-f6e764c5c209"
      },
      "execution_count": 9,
      "outputs": [
        {
          "output_type": "stream",
          "name": "stdout",
          "text": [
            "wait 0.18067875198018524 seconds, time is 2022-05-10 06:03:26.929813\n",
            "wait 0.2903540849650691 seconds, time is 2022-05-10 06:03:27.032480\n",
            "wait 0.3491820609946875 seconds, time is 2022-05-10 06:03:27.105519\n"
          ]
        }
      ]
    },
    {
      "cell_type": "markdown",
      "source": [
        "6. Create a date object of your day of birth.\n"
      ],
      "metadata": {
        "id": "aZSTRmooe4Hx"
      }
    },
    {
      "cell_type": "code",
      "source": [
        "my_dob = date(1993,7,23)\n",
        "my_dob"
      ],
      "metadata": {
        "colab": {
          "base_uri": "https://localhost:8080/"
        },
        "id": "n2ijMwtslAhc",
        "outputId": "751ba199-3a39-46ed-dae6-3163795cae05"
      },
      "execution_count": 10,
      "outputs": [
        {
          "output_type": "execute_result",
          "data": {
            "text/plain": [
              "datetime.date(1993, 7, 23)"
            ]
          },
          "metadata": {},
          "execution_count": 10
        }
      ]
    },
    {
      "cell_type": "markdown",
      "source": [
        "7. What day of the week was your day of birth?"
      ],
      "metadata": {
        "id": "W8e6i53nfc2B"
      }
    },
    {
      "cell_type": "code",
      "source": [
        "my_dob.weekday()"
      ],
      "metadata": {
        "colab": {
          "base_uri": "https://localhost:8080/"
        },
        "id": "13Z15vTIlOEI",
        "outputId": "e8439eca-7b2a-47f2-cd4c-1b7e7a86b9fa"
      },
      "execution_count": 11,
      "outputs": [
        {
          "output_type": "execute_result",
          "data": {
            "text/plain": [
              "4"
            ]
          },
          "metadata": {},
          "execution_count": 11
        }
      ]
    },
    {
      "cell_type": "markdown",
      "source": [
        "8. When will you be (or when were you) 10,000 days old?"
      ],
      "metadata": {
        "id": "aV7U8Jz_fdJu"
      }
    },
    {
      "cell_type": "code",
      "source": [
        "from datetime import timedelta\n",
        "day10000 = my_dob + timedelta(days=10000)\n",
        "day10000"
      ],
      "metadata": {
        "colab": {
          "base_uri": "https://localhost:8080/"
        },
        "id": "ndjXL_rklT7S",
        "outputId": "d38bb383-1f06-4848-dfef-464d47468d0c"
      },
      "execution_count": 12,
      "outputs": [
        {
          "output_type": "execute_result",
          "data": {
            "text/plain": [
              "datetime.date(2020, 12, 8)"
            ]
          },
          "metadata": {},
          "execution_count": 12
        }
      ]
    }
  ]
}